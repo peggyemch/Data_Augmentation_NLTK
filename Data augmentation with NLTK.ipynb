{
 "cells": [
  {
   "cell_type": "markdown",
   "metadata": {},
   "source": [
    "## Data Augmentation\n",
    "\n",
    "A bigger dataset is usually preferred for training neural nets, but getting more data isn't always feasible. There is a solution, though - data augmentation. Data augmentation is used in natural language processing to make text datasets bigger. \n",
    "\n",
    "There are several common methods used in augmentation.\n",
    "\n",
    "- Back translation\n",
    "- Synonym replacement\n",
    "- Random swap\n",
    "- Random deletion\n",
    "- Sentence shuffling\n",
    "- Word embeddings"
   ]
  },
  {
   "cell_type": "markdown",
   "metadata": {},
   "source": [
    "## Synonym Replacement\n",
    "\n",
    "Synonym replacement can be used to create a very different looking corpus by replacing words with their synonyms. There are several steps to this process. \n",
    "\n",
    "First, load a corpus or create some sample text. Next, load the tokenizer from NLTK and then create a list of the tokenized words. Then, tag the words in that list of tokens with their part of speech. We'll use NLTK's part of speech (POS) tagging for that. We don't want to replace every single word so we'll use the POS tagging to eliminate proper nouns (NNP), determiners (DT), and personal pronouns (PRP). Finally, using a loop, we'll create a Synset of each word and add one of its lemmas to the synonyms list. This will be used to create the augmented text."
   ]
  },
  {
   "cell_type": "code",
   "execution_count": 1,
   "metadata": {},
   "outputs": [
    {
     "name": "stderr",
     "output_type": "stream",
     "text": [
      "[nltk_data] Downloading package punkt to /Users/Peggy/nltk_data...\n",
      "[nltk_data]   Package punkt is already up-to-date!\n",
      "[nltk_data] Downloading package averaged_perceptron_tagger to\n",
      "[nltk_data]     /Users/Peggy/nltk_data...\n",
      "[nltk_data]   Package averaged_perceptron_tagger is already up-to-\n",
      "[nltk_data]       date!\n",
      "[nltk_data] Downloading package wordnet to /Users/Peggy/nltk_data...\n",
      "[nltk_data]   Package wordnet is already up-to-date!\n"
     ]
    }
   ],
   "source": [
    "import nltk\n",
    "#download necessary tools\n",
    "nltk.download('punkt')\n",
    "nltk.download('averaged_perceptron_tagger')\n",
    "nltk.download('wordnet')\n",
    "\n",
    "#could augment the whole hansel and gretel story\n",
    "#by replacing \"original\" with \"text\" in the tokenizer\n",
    "text = open(\"Hansel_Gretel.txt\").read()\n",
    "\n",
    "#load the libraries we'll need for the project\n",
    "from nltk.corpus import wordnet\n",
    "from nltk.tokenize import word_tokenize\n",
    "from random import randint\n",
    "import nltk.data"
   ]
  },
  {
   "cell_type": "code",
   "execution_count": 2,
   "metadata": {},
   "outputs": [],
   "source": [
    "#use a couple of sentences from Hansel and Gretel\n",
    "original = \"Then Gretel gave her a push that drove her far into it, and shut the iron door, and fastened the bolt. Then she began to howl quite horribly, but Gretel ran away and the godless witch was miserably burnt to death.\"\n",
    "#assign an empty output list. This will be used to build the augmented text\n",
    "augmented = \"\""
   ]
  },
  {
   "cell_type": "markdown",
   "metadata": {},
   "source": [
    "## NLTK Tokenizer\n",
    "\n",
    "NLTK's tokenizer breaks up text into smaller chunks (Guru99, 2021). E.g. Sentences into words. These words are then called tokens. POS adds the part of speech to the word, creating a new list (NLTK, 2021). You can see the text in the following example with its part of speech. "
   ]
  },
  {
   "cell_type": "code",
   "execution_count": 3,
   "metadata": {},
   "outputs": [
    {
     "data": {
      "text/plain": [
       "[('Hard', 'NNP'),\n",
       " ('by', 'IN'),\n",
       " ('a', 'DT'),\n",
       " ('great', 'JJ'),\n",
       " ('forest', 'NN'),\n",
       " ('dwelt', 'VBD'),\n",
       " ('a', 'DT'),\n",
       " ('poor', 'JJ'),\n",
       " ('wood-cutter', 'NN'),\n",
       " ('with', 'IN'),\n",
       " ('his', 'PRP$'),\n",
       " ('wife', 'NN'),\n",
       " ('and', 'CC'),\n",
       " ('his', 'PRP$'),\n",
       " ('two', 'CD'),\n",
       " ('children', 'NNS'),\n",
       " ('.', '.'),\n",
       " ('The', 'DT'),\n",
       " ('boy', 'NN'),\n",
       " ('was', 'VBD')]"
      ]
     },
     "execution_count": 3,
     "metadata": {},
     "output_type": "execute_result"
    }
   ],
   "source": [
    "#load the tokenizer\n",
    "tokenizer = nltk.data.load('tokenizers/punkt/english.pickle')\n",
    "\n",
    "#the tokenized text is now a list of words\n",
    "tokens = word_tokenize(text)\n",
    "\n",
    "#use part of speech tagging, creating a new list of tokenized, tagged words\n",
    "tagged = nltk.pos_tag(tokens)\n",
    "tagged[:20]"
   ]
  },
  {
   "cell_type": "markdown",
   "metadata": {},
   "source": [
    "## Wordnet Synset\n",
    "\n",
    "Wordnet is the dictionary designed for NLP projects (Wordnet, 2021). Sysnet is used to look up synonyms in Wordnet. The synonyms of each word are given in a list with the part of part of speech tagged after the word. In the following example, the word, \"push\" outputs a list with many options and their part of speech listed. .n for noun, .v for verb, .a for adjective, and .r for adverb. "
   ]
  },
  {
   "cell_type": "code",
   "execution_count": 4,
   "metadata": {},
   "outputs": [
    {
     "data": {
      "text/plain": [
       "[Synset('brood.v.01'),\n",
       " Synset('dwell.v.02'),\n",
       " Synset('populate.v.01'),\n",
       " Synset('dwell.v.04'),\n",
       " Synset('harp.v.01')]"
      ]
     },
     "execution_count": 4,
     "metadata": {},
     "output_type": "execute_result"
    }
   ],
   "source": [
    "syns = wordnet.synsets(tokens[5])\n",
    "syns"
   ]
  },
  {
   "cell_type": "markdown",
   "metadata": {},
   "source": [
    "## Creating the Augmented Text\n",
    "\n",
    "We'll use a for loop to create a new list that is the augmented text. We'll loop through each word in our tokens list. If that word is tagged with NNP, DT, or PRP, we'll skip the word and move on to the next. For words without those tags, we will add the lemmas to the empty synonyms list. The lemmas are the words in the Synset (Educative,2021). Sometimes, words do not have synonyms and sometimes they have more than one. If there are multiple synonyms, we'll choose a random one. That synonym will be appended to the \"augmented\" list. If there are no synonyms, the original word will be added to the augmented list. "
   ]
  },
  {
   "cell_type": "code",
   "execution_count": 5,
   "metadata": {},
   "outputs": [
    {
     "name": "stdout",
     "output_type": "stream",
     "text": [
      " Hard away a neat timberland harp a poor wood-cutter with his wife and his II child . The boy be telephone Hansel and the girlfriend Gretel . He birth piddling to morsel and to pause , and once when groovy famine light on the put_down , he could nobelium long pander even_out daily simoleons . directly when he guess over this by night inward his eff , and toss about in his anxiety , he groan and say to his wife : ‘ What cost to become of us ? How ar we to feed our poor child , when we no yearner suffer anything even for ourselves ? ’ ‘ I ’ ll say you what , husband , ’ answer the cleaning_woman , ‘ early tomorrow sunup we volition lead the tyke out into the afforest to where it constitute the deep ; in_that_location we leave wakeful a fire for them , and sacrifice each of them single more piece of kale , and so we will go to our figure_out and leave them lonely . They will not feel the way home once_again , and we shall be rid of them. ’ ‘ No , wife , ’ suppose the Isle_of_Man , ‘ I will non behave that ; how sack I hold to leave_alone my child unparalleled In the woods ? —the idle brute would before_long number and snag them to pieces. ’ ‘ O , you fool ! ’ pronounce she , ‘ then we moldiness all four die of crave , you may ampere well plane the plank for our coffin , ’ and she leave him no pacification until he accept . ‘ just I feel very bad for the poor baby , wholly the Saame , ’ tell the man . The ii child take_in too non personify able to catch_some_Z's for hunger , and receive see what their stepmother give_birth allege to their founding_father . Gretel weep bitter bout , and suppose to Hansel : ‘ instantly all be o'er with us. ’ ‘ Be quiet , Gretel , ’ suppose Hansel , ‘ practise not suffering yourself , I will before_long receive a style to serve us. ’ And when the old folk have fall at_peace , he have up , assign on his small coat , open_up the threshold on_a_lower_floor , and fawn remote . The lunar_month shine bright , and the white pebble which lay Hoosier_State front of the house shine comparable real silver penny . Hansel bend and choke_up the small pocket of his surface with A many A he could become In . so he go plump_for and aforementioned to Gretel : ‘ Be comfort , dearly little Sister , and sleep inwards peace , God testament non desolate us , ’ and he rest pour_down once_more Indiana his bed . When Clarence_Shepard_Day_Jr. dawn , merely earlier the Lord's_Day suffer come_up , the cleaning_lady come and come_alive the deuce child , aver : ‘ Get up , you sluggard ! we be croak into the forest to convey wood. ’ She move_over each a small firearm of bread , and say : ‘ in_that_location be something for your dinner_party , just coiffure non wipe_out it up in_front then , for you will get zero else. ’ Gretel withdraw the breadstuff under her forestage , A Hansel induce the pebble IN his pouch . and_so they all prepare out together on the mode to the forest . When they have walk a forgetful clock , Hansel fend still and peep back at the house , and coiffe and_then again and again . His beginner say : ‘ Hansel , what be you looking_for At on_that_point and stay can for ? Pay attention , and coif non forget how to use your legs. ’ ‘ Ah , Father-God , ’ allege Hansel , ‘ I be look atomic_number_85 my trivial White puke , which be sitting up on the roof , and privation to tell good-bye to me. ’ The wife articulate : ‘ Fool , that comprise not your little quat , that make_up the sunup sunlight which be shine along the chimneys. ’ Hansel , yet , get non be see back At the qat , simply have comprise perpetually contrive unmatched of the tweed pebble-stones out of his air_pocket along the road . When they get accomplish the middle of the timberland , the mother say : ‘ now , kid , pack up some woodwind , and I leave Inner_Light a flak that you whitethorn non personify cold. ’ Hansel and Gretel collected copse together , A high A a trivial Benny_Hill . The brushwood Evergreen_State ignite , and when the flaming exist combustion selfsame high_school , the adult_female enounce : ‘ today , baby , lie_in yourselves down past the can and relief , we bequeath survive into the forest and cut some Grant_Wood . When we have do , we will come spine and bring_in you away. ’ Hansel and Gretel sit by the provoke , and when noontide come , each eat a little composition of pelf , and as they listen the diagonal of the wood-axe they believe that their father be close . It cost not the axe , however , just a branch which he have fastened to a shrink tree which the lift be blow backward and frontwards . And AS they have exist posture such a foresighted time , their center close with outwear , and they fell fast benumbed . When atomic_number_85 last they wake_up , it be already dark nighttime . Gretel set_about to cry and tell : ‘ How be we to gravel out of the forest directly ? ’ just Hansel solace her and state : ‘ Just postponement a little , until the Moon have resurrect , and then we bequeath shortly see the way. ’ And when the full Moon take mount , Hansel demand his little sister past the manus , and conform_to the pebble which reflect like newly-coined argent firearm , and picture them the way . They walk the unanimous night long , and past break of day issue_forth once Thomas_More to their Padre ’ atomic_number_16 house . They knock At the door , and when the woman open_up it and see that it be Hansel and Gretel , she say : ‘ You juicy shaver , why bear you sleep indeed long In the afforest ? —we thought_process you be never come_up rear at all ! ’ The Fatherhood , still , rejoice , for it make cut him to the heart to leave-taking them behind alone . non long afterwards , thither be once More dandy dearth end-to-end the land , and the child listen their generate read atomic_number_85 Nox to their sire : ‘ Everything be eat once_again , we make unrivalled half loaf give , and that be the closing . The minor mustiness decease , we leave hold them farther into the woods , thus that they testament not find_oneself their agency proscribed once_more ; there comprise no other means of bring_through ourselves ! ’ The world ’ sulphur heart_and_soul cost operose , and he think : ‘ It would follow easily for you to share the last taste with your children. ’ The charwoman , all_the_same , would take_heed to nothing that he birth to allege , simply trounce and reproach him . He WHO pronounce A must articulate B , likewise , and A he suffer yield the number_one time , he cause to serve and_then a secondment fourth_dimension besides . The child , notwithstanding , be still arouse and deliver hear the conversation . When the erstwhile tribe be departed , Hansel once_more get up , and cherished to die out and foot up pebble As he take do before , but the woman have lock the door , and Hansel could non get tabu . yet he soothe his footling babe , and say : ‘ cause not cry , Gretel , go to slumber quietly , the unspoilt God leave assistant us. ’ Early in the morn come the cleaning_woman , and bring the tiddler out of their sleep_together . Their small-arm of moolah Washington presumption to them , only it be still small than the time earlier . along the style into the woodland Hansel crumble his in his pocket , and much place_upright calm_down and give a bite on the background . ‘ Hansel , wherefore ut you stop and look round ? ’ say the father , ‘ sound on. ’ ‘ I be reckon rear at my little pigeon which be sit on the roof , and want to say good_day to me , ’ respond Hansel . ‘ horse_around ! ’ enounce the adult_female , ‘ that be not your little pigeon , that be the morn solarize that cost shine on the chimney. ’ Hansel , even_so little by small , befuddle whole the crumb on the route . The cleaning_woman chair the child quiet deep into the woodland , where they have never In their live be before . so a great fire be over_again take_a_leak , and the mother say : ‘ Just sit there , you small_fry , and when you be well-worn you Crataegus_oxycantha kip a little ; we be go into the forest to cut forest , and In the evening when we be perform , we will come and fetch you away. ’ When it personify noonday , Gretel partake_in her piece of pelf with Hansel , World_Health_Organization make disjointed his past the way . then they pass deceased and even_out happen , just no 1 come to the piteous child . They coif not awake until it live grim night , and Hansel comfort his slight sister and say : ‘ Just postponement , Gretel , until the moon ascend , and so we shall take_in the stinkpot of sugar which I sustain strew about , they volition show us our manner internal again. ’ When the moon come they set out , just they constitute no so-and-so , for the many one_thousand of razz which fly_ball about inward the wood and field have clean them all up . Hansel allege to Gretel : ‘ We shall soon bump the way , ’ merely they make non find it . They walk the whole night and entirely the next day too from dawning till level , simply they perform not have stunned of the forest , and equal really hungry , for they have nil to wipe_out merely two operating_room trine berry , which arise on the dig . And arsenic they be and_then aweary that their legs would deport them no farseeing , they consist down to_a_lower_place a tree and fall numb . It be now ternion morning_time since they let left their beget ’ S star_sign . They start_out to walk over_again , simply they perpetually come deep into the forest , and if help come not come presently , they must die of thirst and tiredness . When it be mid-day , they witness a beautiful snow-white bird sitting on a bough , which peach thusly delightfully that they suffer quieten and listen to it . And when IT Sung_dynasty be over , it circulate IT wing and flee away in_front them , and they follow it until they hit a little domiciliate , on the roof of which it alight ; and when they border_on the short family they experience that it personify reinforced of lolly and cover with cake , simply that the windowpane be of clear-cut clams . ‘ We will circle to operate on that , ’ say Hansel , ‘ and experience a proficient meal . I volition eat a bit of the roof , and you Gretel , rear eat some of the window , it will sample sweet. ’ Hansel make up higher_up , and break dispatch a trivial of the roof to endeavor how it taste , and Gretel angle against the window and pick astatine the pan . then a soft articulation call from the living_room : ‘ Nibble , nibble , eat_at , WHO represent nibble At my small house ? ’ The nestling answer : ‘ The wind_instrument , the wrap , The heaven-born wind , ’ and kick_the_bucket on rust without worrying themselves . Hansel , WHO liked the savor of the roof , rupture depressed a peachy put_together of it , and Gretel push out the solid of i assault window-pane , posture belt_down , and enjoy herself with it . all_of_a_sudden the door open , and a charwoman A former deoxyadenosine_monophosphate the pitcher's_mound , World_Health_Organization supported herself on crutch , come creep out . Hansel and Gretel exist then awful panicky that they countenance descend what they have in their hand . The old charwoman , yet , nod her headspring , and say : ‘ Ohio , you earnest nipper , WHO take get you here ? practise get in , and outride with me . No harm shall pass_off to you. ’ She aim them both aside the deal , and take them into her small house . so expert nutrient live dictated earlier them , Milk_River and flannel-cake , with sugar , Malus_pumila , and en . after deuce reasonably little bed embody cover_up with clean E._B._White linen , and Hansel and Gretel repose cut_down in them , and opinion they be atomic_number_49 paradise . The onetime cleaning_lady birth only profess to be so kind ; she make_up inward realness a severe beldame , World_Health_Organization lie inward waiting for tyke , and make only work_up the little house of dinero Indiana purchase_order to entice them thither . When a youngster fall into her magnate , she wipe_out it , fix and eat it , and that be a fete day with her . enchant have cherry oculus , and rear_end non see Interahamwe , but they let a slap-up odour the_like the wolf , and are aware when homo be draw near . When Hansel and Gretel come into her locality , she express_mirth with spitefulness , and say derisively : ‘ I possess them , they shall not run_away me once_again ! ’ betimes in the good_morning before the nipper equal awake , she personify already upwards , and when she escort both of them kip and face so fairly , with their plump and flushed buttock she mumble to herself : ‘ That will comprise a prissy mouthful ! ’ so she impound Hansel with her shrivelled hand , comport him into a little horse_barn , and lock him In seat a grate doorway . thigh-slapper group_A he mightiness , it would non help him . then she blend to Gretel , shake her trough she wake_up , and blazon_out : ‘ Get upward , lazy thing , fetch some body_of_water , and prepare something unspoiled for your crony , he represent IN the static outside , and be to embody make fatten_up . When he embody fatten_up , I will corrode him. ’ Gretel begin to weep piercingly , but it be all inch egotistical , for she cost drive to ut what the loathly enchant dominate . And now the substantially solid_food represent wangle for poor Hansel , simply Gretel cause zilch simply crab-shells . Every dawn the cleaning_woman crawl to the little stable , and call : ‘ Hansel , stretch out your finger that I English_hawthorn feeling if you testament presently comprise fat. ’ Hansel , withal , debase out a little bone_up to her , and the old cleaning_woman , World_Health_Organization sustain dimmed centre , could non attend it , and guess it Evergreen_State Hansel ’ S finger , and be astound that on_that_point equal no way of fat him . When foursome week experience plump aside , and Hansel unruffled rest thin , she be seize with impatience and would not time_lag any recollective . ‘ straight_off , so , Gretel , ’ she cry to the girl , ‘ stir yourself , and make_for some pee . let Hansel personify fat operating_theater lean , tomorrow I will kill him , and Captain_Cook him. ’ Ah , how the poor picayune sister practice lament when she take_in to bring_in the water , and how her buck manage flow down her impudence ! ‘ Dear God , coif assistance us , ’ she cry . ‘ If the state_of_nature beast in the timberland induce but down us , we should at any order experience pass_away together. ’ ‘ Just maintain your resound to yourself , ’ say the old cleaning_woman , ‘ it win ’ thyroxine facilitate you astatine all. ’ early inwards the break_of_day , Gretel hold to go forbidden and hang up the caldron with the piss , and light the fervidness . ‘ We bequeath bake foremost , ’ aforementioned the old woman , ‘ I have already heated_up the oven , and work the dough. ’ She press poor Gretel out to the oven , from which flare of fire be already dart . ‘ Creep in , ’ say the hag , ‘ and visit if it be in_good_order het_up , therefore that we bathroom place the sugar in. ’ And erst Gretel be inwardly , she mean to exclude the oven and get her bake in it , and then she would eat her , excessively . simply Gretel see what she induce in mind , and say : ‘ I make_out non experience how I Artium_Magister to do it ; how do I get in ? ’ ‘ Silly goose , ’ say the honest-to-goodness cleaning_woman . ‘ The room_access be big enough ; simply attend , I give_notice get in myself ! ’ and she sneak up and poking her top_dog into the oven . and_then Gretel give her a push that drive her far into it , and shut the iron door , and fasten the bolt . Buckeye_State ! and_then she get to howling quite awfully , just Gretel race away and the irreverent glamour Washington miserably burn to expiry . Gretel , notwithstanding , run like lightning to Hansel , open his little stable , and cry : ‘ Hansel , we be save ! The old witch be suddenly ! ’ then Hansel recoil like a fowl from information_technology batting_cage when the door equal open . How they practise rejoice and bosom each other , and dance about and candy_kiss each former ! And angstrom_unit they accept no foresightful any penury to revere her , they go into the hex ’ sec business_firm , and Indiana every turning_point on_that_point stick_out bureau full of off-white and jewel . ‘ These be far good than pebble ! ’ enjoin Hansel , and jab into his pocket whatsoever could glucinium stick in , and Gretel articulate : ‘ I , too , will take something home_plate with me , ’ and satisfy her jumper full . ‘ only immediately we must be forth , ’ sound_out Hansel , ‘ that we May generate out of the enchantress ’ southward forest. ’ When they get walk for deuce hour , they get to a keen extend of body_of_water . ‘ We stern not queer , ’ read Hansel , ‘ I fancy no foot-plank , and no bridge. ’ ‘ And at_that_place comprise likewise no ferry , ’ answer Gretel , ‘ just a white duck be swimming in_that_respect : if I expect her , she will help us over. ’ then she weep : ‘ Little fudge , slight skirt , dost chiliad see , Hansel and Gretel be wait for thee ? on_that_point ’ reciprocal_ohm ne'er a plop , OR bridge_circuit inwards mess , takings us across on thy plunk_for and_so white. ’ The put_off add_up to them , and Hansel seat himself on IT back , and tell his sis to sit past him . ‘ No , ’ answer Gretel , ‘ that will personify as_well heavy for the little hedge ; she shall subscribe us across , unitary subsequently the other. ’ The ripe little duck cause so , and when they personify one_time safely crosswise and get walk for a short time , the timberland appear to be Sir_Thomas_More and to_a_greater_extent conversant to them , and At length they see from afar their beginner ’ second house . then they set_out to break_away , rush into the parlour , and make themselves attack their beget ’ entropy neck_opening . The man receive not know unitary felicitous hour since he throw leave the child inch the wood ; the charwoman , even_so , be beat . Gretel empty her pinafore until pearl and treasured Harlan_Stone run about the elbow_room , and Hansel drop unity smattering afterward another out of his pocket to minimal_brain_damage to them . then all anxiety follow atomic_number_85 an ending , and they last together in perfect happiness . My narrative be make , there track_down a creep ; whosoever catch it , whitethorn make himself a grown fur pileus extinct of it .\n"
     ]
    }
   ],
   "source": [
    "#loop through each tokenized word in the tokens list\n",
    "for i in range(0,len(tokens)):\n",
    "    #make an empty list for the each synonym\n",
    "    synonyms = []\n",
    "    \n",
    "    #using the synonyms in synsets...\n",
    "    for syn in wordnet.synsets(tokens[i]):\n",
    "\n",
    "        #break for proper nouns, determiners, and personal pronouns\n",
    "        if tagged[i][1] == 'NNP' or tagged[i][1] == 'DT' or tagged[i][1] == 'PRP':\n",
    "            break\n",
    "        \n",
    "        #appending synonyms to the list\n",
    "        for j in syn.lemmas():\n",
    "            synonyms.append(j.name())\n",
    "    \n",
    "    #if the word has more than one synonym, we'll pull just one from the list\n",
    "    if len(synonyms) > 0:\n",
    "        #pick a random number from the number of choices \n",
    "        synonym = synonyms[randint(0,len(synonyms)-1)]\n",
    "        #take the augmented text and add the synonym to it\n",
    "        augmented = augmented + \" \" + synonym\n",
    "    else:\n",
    "        #if there is no synonym, then take the augmented text and add the original word\n",
    "        augmented = augmented + \" \" + tokens[i]\n",
    "\n",
    "print(augmented)"
   ]
  },
  {
   "cell_type": "markdown",
   "metadata": {},
   "source": [
    "## References\n",
    "\n",
    "Educative. (2021). How to use WordNet in Python. https://www.educative.io/edpresso/how-to-use-wordnet-in-python\n",
    "\n",
    "Guru99. (2021). NLTK Tokenize: Words and Sentences Tokenizer with Example. https://www.guru99.com/tokenize-words-sentences-nltk.html\n",
    "\n",
    "NLTK. (2021). 5. Categorizing and Tagging Words. https://www.nltk.org/book/ch05.html\n",
    "\n",
    "Wordnet. (2021). What is WordNet?. https://wordnet.princeton.edu"
   ]
  },
  {
   "cell_type": "code",
   "execution_count": null,
   "metadata": {},
   "outputs": [],
   "source": []
  }
 ],
 "metadata": {
  "kernelspec": {
   "display_name": "Python 3",
   "language": "python",
   "name": "python3"
  },
  "language_info": {
   "codemirror_mode": {
    "name": "ipython",
    "version": 3
   },
   "file_extension": ".py",
   "mimetype": "text/x-python",
   "name": "python",
   "nbconvert_exporter": "python",
   "pygments_lexer": "ipython3",
   "version": "3.8.5"
  }
 },
 "nbformat": 4,
 "nbformat_minor": 4
}
